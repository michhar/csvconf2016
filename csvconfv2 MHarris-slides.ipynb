{
 "cells": [
  {
   "cell_type": "markdown",
   "metadata": {
    "collapsed": true,
    "slideshow": {
     "slide_type": "slide"
    }
   },
   "source": [
    "# Work Together\n",
    "## Share and Explore Data in Jupyter Notebooks\n",
    "\n",
    "### Micheleen Harris (michhar@microsoft.com)"
   ]
  },
  {
   "cell_type": "markdown",
   "metadata": {
    "collapsed": true,
    "slideshow": {
     "slide_type": "slide"
    }
   },
   "source": [
    "## Covering\n",
    "1. What's a jupyter notebook and what is it good for?\n",
    "* Scenarios\n",
    "* Demo\n",
    "* How can I do this right now?"
   ]
  },
  {
   "cell_type": "markdown",
   "metadata": {
    "collapsed": true,
    "slideshow": {
     "slide_type": "slide"
    }
   },
   "source": [
    "## What's a jupyter notebook and what's it good for?\n",
    "\n",
    "1\\.  Place where code can interactively live along side other descriptive information such as rich text in markdown or html.  The code is interactive, text easily editable and graphics can be images or movies, like youtube clips...all in the cloud and accessible in your browser."
   ]
  },
  {
   "cell_type": "markdown",
   "metadata": {
    "slideshow": {
     "slide_type": "slide"
    }
   },
   "source": [
    "## What's a jupyter notebook and what's it good for?\n",
    "2\\. I started using it for (progressively)\n",
    "  * scratch pad for code and notes\n",
    "  * teaching\n",
    "  * collaborating\n",
    "  * presenting\n",
    "  * blogging (not yet)"
   ]
  },
  {
   "cell_type": "markdown",
   "metadata": {
    "slideshow": {
     "slide_type": "slide"
    }
   },
   "source": [
    "## What's a jupyter notebook and what's it good for?\n",
    "3\\. Github renders notebooks like markdown!"
   ]
  },
  {
   "cell_type": "markdown",
   "metadata": {
    "slideshow": {
     "slide_type": "slide"
    }
   },
   "source": [
    "## Scenarios\n",
    "1. Educators (+jupyterhub or multi-tenant system + nb grading system)\n",
    "* Researchers (collaborating on projects and publishing hopefully this way someday)\n",
    "* Students (learn languages etc)\n",
    "* Software devs (pick a kernel language of your choice) \n",
    "* Data scientists (incorp. Fav data munging and ML tools) \n",
    "* Bloggers (+github pages)"
   ]
  },
  {
   "cell_type": "markdown",
   "metadata": {
    "slideshow": {
     "slide_type": "slide"
    }
   },
   "source": [
    "## Demo\n",
    "Azure Machine Learning Studio service + notebooks + python/R + sharing\n"
   ]
  },
  {
   "cell_type": "markdown",
   "metadata": {
    "slideshow": {
     "slide_type": "slide"
    }
   },
   "source": [
    "## Have BIG data?\n",
    "\n",
    "### For a little bit of money (not a sales pitch, just FYI)\n",
    "* Get a monthly AML subscription so you can plug in other storage on Azure so not limited to 10 GB\n",
    "\n",
    "### Check out - Microsoft's Data Science Virtual Machine on Azure\n",
    "* A parallel, out-of-memory version of R\n",
    "* Can pull in other storage devices in the cloud\n",
    "* Still has jupyter notebooks + tons of other DS tools"
   ]
  },
  {
   "cell_type": "markdown",
   "metadata": {
    "slideshow": {
     "slide_type": "slide"
    }
   },
   "source": [
    "<img src=\"https://raw.githubusercontent.com/michhar/csvconf2016/master/imgs/aml_signup.png\" width = \"500\" alt=\"Sign-up\" align=\"left\">"
   ]
  },
  {
   "cell_type": "markdown",
   "metadata": {
    "slideshow": {
     "slide_type": "slide"
    }
   },
   "source": [
    "## How can you do this right now? \n",
    "* AML Studio at https://studio.azureml.net/\n",
    "* AML Gallery at https://gallery.cortanaintelligence.com/?r=legacy\n",
    "* AML awards at http://research.microsoft.com/en-us/projects/azure/ml.aspx\n",
    "* These notebooks on github at https://github.com/michhar/csvconf2016\n",
    "* Jupyter project at http://jupyter.org/\n",
    "* Also, my email is michhar@microsoft.com"
   ]
  },
  {
   "cell_type": "code",
   "execution_count": null,
   "metadata": {
    "collapsed": true
   },
   "outputs": [],
   "source": []
  }
 ],
 "metadata": {
  "kernelspec": {
   "display_name": "Python 3",
   "language": "python",
   "name": "python3"
  },
  "language_info": {
   "codemirror_mode": {
    "name": "ipython",
    "version": 3
   },
   "file_extension": ".py",
   "mimetype": "text/x-python",
   "name": "python",
   "nbconvert_exporter": "python",
   "pygments_lexer": "ipython3",
   "version": "3.4.3"
  }
 },
 "nbformat": 4,
 "nbformat_minor": 0
}
