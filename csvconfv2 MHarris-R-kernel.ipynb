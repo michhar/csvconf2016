{
 "cells": [
  {
   "cell_type": "code",
   "execution_count": null,
   "metadata": {
    "collapsed": true
   },
   "outputs": [],
   "source": [
    "# From AML studio it looks like:\n",
    "# library(\"AzureML\")\n",
    "# ws <- workspace()\n",
    "# dat <- download.datasets(ws, \"paho-who-cases-reported-2016-03-02.csv\")\n",
    "\n",
    "# Otherwise:\n",
    "\n",
    "dat <- read.csv(\"paho-who-cases-reported-2016-03-02.csv\")"
   ]
  },
  {
   "cell_type": "code",
   "execution_count": null,
   "metadata": {
    "collapsed": false
   },
   "outputs": [],
   "source": [
    "head(dat, n = 50)"
   ]
  },
  {
   "cell_type": "code",
   "execution_count": null,
   "metadata": {
    "collapsed": false
   },
   "outputs": [],
   "source": [
    "# install.packages('dplyr', repos = \"http://cloud.r-project.org\")"
   ]
  },
  {
   "cell_type": "code",
   "execution_count": null,
   "metadata": {
    "collapsed": false
   },
   "outputs": [],
   "source": [
    "library(dplyr)\n",
    "summary(dat)\n",
    "colnames(dat)\n",
    "\n",
    "library(dplyr)\n",
    "\n",
    "dat_susp <- filter(dat, Measure.Names == 'Suspected') #Suspected.cases > 0)\n",
    "head(dat_susp)\n",
    "\n",
    "dat_conf <- filter(dat, Measure.Names != 'Suspected')\n",
    "head(dat_conf)"
   ]
  },
  {
   "cell_type": "code",
   "execution_count": null,
   "metadata": {
    "collapsed": false
   },
   "outputs": [],
   "source": [
    "# Interactive graphics\n",
    "# replace the lib argument with your local user library\n",
    "# install.packages(c(\"DT\", \"htmlwidgets\"),\n",
    "#                 repos = \"http://cloud.r-project.org\")"
   ]
  },
  {
   "cell_type": "code",
   "execution_count": null,
   "metadata": {
    "collapsed": false,
    "scrolled": false
   },
   "outputs": [],
   "source": [
    "# World map plotting packages\n",
    "install.packages(c(\"rworldmap\", \"RColorBrewer\"),\n",
    "                repos = \"http://cloud.r-project.org\")"
   ]
  },
  {
   "cell_type": "code",
   "execution_count": null,
   "metadata": {
    "collapsed": false,
    "scrolled": true
   },
   "outputs": [],
   "source": [
    "# Convert categorical to numerical - remove ','\n",
    "susp.cases.num <- gsub(\",\", \"\", dat_susp$Measure.Values, fixed = T)\n",
    "dat_susp$Measure.Values <- as.numeric(susp.cases.num)\n",
    "head(dat_susp)"
   ]
  },
  {
   "cell_type": "code",
   "execution_count": null,
   "metadata": {
    "collapsed": false
   },
   "outputs": [],
   "source": [
    "library(rworldmap)\n",
    "head(countrySynonyms)"
   ]
  },
  {
   "cell_type": "code",
   "execution_count": null,
   "metadata": {
    "collapsed": false
   },
   "outputs": [],
   "source": [
    "tmp <- aggregate(dat_susp$Measure.Values, by=list(Country...territory = dat_susp$Country...territory), FUN=sum)\n",
    "head(tmp)"
   ]
  },
  {
   "cell_type": "code",
   "execution_count": null,
   "metadata": {
    "collapsed": false
   },
   "outputs": [],
   "source": [
    "library(rworldmap)\n",
    "library(RColorBrewer)\n",
    "\n",
    "\n",
    "# Some renaming of Countries needs to happen because of non-standard names in dataset\n",
    "dat_susp[which(dat_susp$Country...territory == 'Bolivia'), \n",
    "         \"Country...territory\"] <- 'Bolivia, Plurinational State of'\n",
    "dat_susp[which(dat_susp$Country...territory == 'Bonaire'), \"Country...territory\"] <- 'Bonaire, Sint Eustatius and Saba'\n",
    "dat_susp[which(dat_susp$Country...territory == 'Curacao'), \"Country...territory\"] <- 'CuraÃ§ao'\n",
    "dat_susp[which(dat_susp$Country...territory == 'Saint Martin'), \"Country...territory\"] <- 'Saint Martin (French part)'\n",
    "dat_susp[which(dat_susp$Country...territory == 'Sint Maarten'), \"Country...territory\"] <- 'Sint Maarten (Dutch part)'\n",
    "dat_susp[which(dat_susp$Country...territory == 'United States Virgin Islands'), \"Country...territory\"] <- 'Virgin Islands, U.S.'\n",
    "dat_susp[which(dat_susp$Country...territory == \n",
    "               'Venezuela'), \"Country...territory\"] <- 'Venezuela, Bolivarian Republic of'\n",
    "\n",
    "\n",
    "dat_susp$ISO3 <- 'none'\n",
    "\n",
    "head(dat_susp)\n",
    "\n",
    "\n",
    "for (i in 1:nrow(dat_susp)) {\n",
    "    name <- dat_susp[i, 'Country...territory']\n",
    "    x <- countrySynonyms[which(countrySynonyms$name1 == name), 'ISO3']\n",
    "    if (length(x) > 0) {\n",
    "        dat_susp[i, 'ISO3'] <- toupper(x)\n",
    "    } else {\n",
    "        dat_susp[i, 'ISO3'] <- 'none'\n",
    "    }\n",
    "}\n",
    "\n",
    "head(dat_susp)"
   ]
  },
  {
   "cell_type": "code",
   "execution_count": null,
   "metadata": {
    "collapsed": false
   },
   "outputs": [],
   "source": [
    "sPDF <- joinCountryData2Map(dF = dat_susp, joinCode = \"ISO3\", nameJoinColumn = \"ISO3\")\n",
    "\n",
    "# using your green colours\n",
    "\n",
    "numCats <- 10 #set number of categories to use\n",
    "palette = colorRampPalette(brewer.pal(n=9, name='Greens'))(numCats)\n",
    "mapCountryData(sPDF, \n",
    "               mapTitle = 'Zika Virus Suspected Cases 2015-2016 by Country',\n",
    "               nameColumnToPlot=\"Measure.Values\",\n",
    "               catMethod=\"fixedWidth\", \n",
    "               numCats=numCats, \n",
    "               colourPalette=palette)\n",
    "\n",
    "# 490 codes from your data successfully matched countries in the map\n",
    "# 118 codes from your data failed to match with a country code in the map\n",
    "# 218 codes from the map weren't represented in your data"
   ]
  },
  {
   "cell_type": "code",
   "execution_count": null,
   "metadata": {
    "collapsed": false
   },
   "outputs": [],
   "source": [
    "print('hello Berlin!')"
   ]
  },
  {
   "cell_type": "code",
   "execution_count": null,
   "metadata": {
    "collapsed": false
   },
   "outputs": [],
   "source": [
    "# install.packages('plotly', repos = \"http://cloud.r-project.org\")"
   ]
  },
  {
   "cell_type": "code",
   "execution_count": null,
   "metadata": {
    "collapsed": false
   },
   "outputs": [],
   "source": [
    "# Work in progress...\n",
    "\n",
    "# # Scatter Plot\n",
    "# library(plotly)\n",
    "\n",
    "# set.seed(123)\n",
    "\n",
    "# x <- rnorm(1000)\n",
    "# y <- rchisq(1000, df = 1, ncp = 0)\n",
    "# group <- sample(LETTERS[1:5], size = 1000, replace = T)\n",
    "# size <- sample(1:5, size = 1000, replace = T)\n",
    "\n",
    "# ds <- data.frame(x, y, group, size)\n",
    "\n",
    "# p <- plot_ly(ds, x = x, y = y, mode = \"markers\", group = group, size = size) %>%\n",
    "#   layout(title = \"Scatter Plot\")\n",
    "# embed_notebook(p)"
   ]
  },
  {
   "cell_type": "code",
   "execution_count": null,
   "metadata": {
    "collapsed": false
   },
   "outputs": [],
   "source": [
    "# library(plotly)\n",
    "\n",
    "# set.seed(100)\n",
    "# d <- diamonds[sample(nrow(diamonds), 1000), ]\n",
    "# p <- plot_ly(d, x = carat, y = price, text = paste(\"Clarity: \", clarity),\n",
    "#         mode = \"markers\", color = carat, size = carat)\n",
    "\n",
    "# embed_notebook(p)"
   ]
  },
  {
   "cell_type": "code",
   "execution_count": null,
   "metadata": {
    "collapsed": true
   },
   "outputs": [],
   "source": []
  }
 ],
 "metadata": {
  "kernelspec": {
   "display_name": "R",
   "language": "R",
   "name": "ir"
  },
  "language_info": {
   "codemirror_mode": "r",
   "file_extension": ".r",
   "mimetype": "text/x-r-source",
   "name": "R",
   "pygments_lexer": "r",
   "version": "3.2.3"
  }
 },
 "nbformat": 4,
 "nbformat_minor": 0
}
